{
 "cells": [
  {
   "cell_type": "code",
   "execution_count": 1,
   "metadata": {},
   "outputs": [],
   "source": [
    "import numpy as np\n",
    "import matplotlib.pyplot as plt\n",
    "import trimesh"
   ]
  },
  {
   "cell_type": "code",
   "execution_count": 2,
   "metadata": {},
   "outputs": [
    {
     "name": "stderr",
     "output_type": "stream",
     "text": [
      "concatenating texture: may result in visual artifacts\n"
     ]
    },
    {
     "name": "stdout",
     "output_type": "stream",
     "text": [
      "<trimesh.Trimesh(vertices.shape=(87991, 3), faces.shape=(111960, 3))>\n"
     ]
    }
   ],
   "source": [
    "obj_file = \"D:/shapenet_base/shapenet_core/02691156/1a6ad7a24bb89733f412783097373bdc/models/model_normalized.obj\"\n",
    "mesh = trimesh.load(obj_file, force=\"mesh\")\n",
    "print(mesh)"
   ]
  }
 ],
 "metadata": {
  "kernelspec": {
   "display_name": "3D-Sandbox",
   "language": "python",
   "name": "python3"
  },
  "language_info": {
   "codemirror_mode": {
    "name": "ipython",
    "version": 3
   },
   "file_extension": ".py",
   "mimetype": "text/x-python",
   "name": "python",
   "nbconvert_exporter": "python",
   "pygments_lexer": "ipython3",
   "version": "3.10.6"
  },
  "orig_nbformat": 4,
  "vscode": {
   "interpreter": {
    "hash": "2507ded4d3168f1b9e58bc674f4b67c2fe1779419d198bcee6cecb508445c1d9"
   }
  }
 },
 "nbformat": 4,
 "nbformat_minor": 2
}
