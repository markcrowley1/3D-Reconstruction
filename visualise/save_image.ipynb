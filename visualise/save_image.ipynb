{
 "cells": [
  {
   "cell_type": "code",
   "execution_count": 11,
   "metadata": {},
   "outputs": [],
   "source": [
    "import numpy as np\n",
    "import trimesh\n",
    "import math"
   ]
  },
  {
   "cell_type": "code",
   "execution_count": 12,
   "metadata": {},
   "outputs": [
    {
     "name": "stderr",
     "output_type": "stream",
     "text": [
      "concatenating texture: may result in visual artifacts\n"
     ]
    },
    {
     "ename": "AttributeError",
     "evalue": "'Trimesh' object has no attribute 'camera'",
     "output_type": "error",
     "traceback": [
      "\u001b[1;31m---------------------------------------------------------------------------\u001b[0m",
      "\u001b[1;31mAttributeError\u001b[0m                            Traceback (most recent call last)",
      "Cell \u001b[1;32mIn [12], line 11\u001b[0m\n\u001b[0;32m      3\u001b[0m corners \u001b[39m=\u001b[39m scene\u001b[39m.\u001b[39mbounds\n\u001b[0;32m      4\u001b[0m r_e \u001b[39m=\u001b[39m trimesh\u001b[39m.\u001b[39mtransformations\u001b[39m.\u001b[39meuler_matrix(\n\u001b[0;32m      5\u001b[0m     math\u001b[39m.\u001b[39mradians(\u001b[39m90\u001b[39m),\n\u001b[0;32m      6\u001b[0m     math\u001b[39m.\u001b[39mradians(\u001b[39m0\u001b[39m),\n\u001b[0;32m      7\u001b[0m     math\u001b[39m.\u001b[39mradians(\u001b[39m0\u001b[39m),\n\u001b[0;32m      8\u001b[0m     \u001b[39m\"\u001b[39m\u001b[39mryxz\u001b[39m\u001b[39m\"\u001b[39m,\n\u001b[0;32m      9\u001b[0m )\n\u001b[1;32m---> 11\u001b[0m t_r \u001b[39m=\u001b[39m scene\u001b[39m.\u001b[39;49mcamera\u001b[39m.\u001b[39mlook_at(corners, rotation\u001b[39m=\u001b[39mr_e)\n\u001b[0;32m     12\u001b[0m scene\u001b[39m.\u001b[39mcamera_transform \u001b[39m=\u001b[39m t_r\n\u001b[0;32m     13\u001b[0m png \u001b[39m=\u001b[39m scene\u001b[39m.\u001b[39msave_image()\n",
      "\u001b[1;31mAttributeError\u001b[0m: 'Trimesh' object has no attribute 'camera'"
     ]
    }
   ],
   "source": [
    "obj_file = \"D:/shapenet_base/shapenet_core/02691156/1a6ad7a24bb89733f412783097373bdc/models/model_normalized.obj\"\n",
    "scene = trimesh.load(obj_file, force=\"scene\")\n",
    "corners = scene.bounds\n",
    "r_e = trimesh.transformations.euler_matrix(\n",
    "    math.radians(90),\n",
    "    math.radians(0),\n",
    "    math.radians(0),\n",
    "    \"ryxz\",\n",
    ")\n",
    "\n",
    "t_r = scene.camera.look_at(corners, rotation=r_e)\n",
    "scene.camera_transform = t_r\n",
    "png = scene.save_image()\n",
    "with open(\"test.png\", \"wb\") as file:\n",
    "    file.write(png)\n",
    "    file.close()"
   ]
  }
 ],
 "metadata": {
  "kernelspec": {
   "display_name": "3D-Sandbox",
   "language": "python",
   "name": "python3"
  },
  "language_info": {
   "codemirror_mode": {
    "name": "ipython",
    "version": 3
   },
   "file_extension": ".py",
   "mimetype": "text/x-python",
   "name": "python",
   "nbconvert_exporter": "python",
   "pygments_lexer": "ipython3",
   "version": "3.10.6"
  },
  "orig_nbformat": 4,
  "vscode": {
   "interpreter": {
    "hash": "2507ded4d3168f1b9e58bc674f4b67c2fe1779419d198bcee6cecb508445c1d9"
   }
  }
 },
 "nbformat": 4,
 "nbformat_minor": 2
}
