{
 "cells": [
  {
   "cell_type": "code",
   "execution_count": 17,
   "metadata": {},
   "outputs": [],
   "source": [
    "import numpy as np\n",
    "import trimesh\n",
    "import math"
   ]
  },
  {
   "cell_type": "code",
   "execution_count": 18,
   "metadata": {},
   "outputs": [],
   "source": [
    "obj_file = \"D:/shapenet_base/shapenet_core/02691156/1a6ad7a24bb89733f412783097373bdc/models/model_normalized.obj\"\n",
    "scene = trimesh.load(obj_file, force=\"scene\")\n",
    "corners = scene.bounds\n",
    "r_e = trimesh.transformations.euler_matrix(\n",
    "    math.radians(45),\n",
    "    math.radians(45),\n",
    "    math.radians(45),\n",
    "    \"ryxz\",\n",
    ")\n",
    "\n",
    "t_r = scene.camera.look_at(corners, rotation=r_e)\n",
    "scene.camera_transform = t_r\n",
    "png = scene.save_image()\n",
    "with open(\"test.png\", \"wb\") as file:\n",
    "    file.write(png)\n",
    "    file.close()"
   ]
  }
 ],
 "metadata": {
  "kernelspec": {
   "display_name": "3D-Sandbox",
   "language": "python",
   "name": "python3"
  },
  "language_info": {
   "codemirror_mode": {
    "name": "ipython",
    "version": 3
   },
   "file_extension": ".py",
   "mimetype": "text/x-python",
   "name": "python",
   "nbconvert_exporter": "python",
   "pygments_lexer": "ipython3",
   "version": "3.10.6 | packaged by conda-forge | (main, Oct  7 2022, 20:14:50) [MSC v.1916 64 bit (AMD64)]"
  },
  "orig_nbformat": 4,
  "vscode": {
   "interpreter": {
    "hash": "2507ded4d3168f1b9e58bc674f4b67c2fe1779419d198bcee6cecb508445c1d9"
   }
  }
 },
 "nbformat": 4,
 "nbformat_minor": 2
}
